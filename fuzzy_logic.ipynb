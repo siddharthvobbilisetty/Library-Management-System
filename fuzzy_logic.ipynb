{
  "nbformat": 4,
  "nbformat_minor": 0,
  "metadata": {
    "colab": {
      "name": "fuzzy logic.ipynb",
      "provenance": [],
      "authorship_tag": "ABX9TyOcGlNkM0TTe+5O4k9RoDVJ",
      "include_colab_link": true
    },
    "kernelspec": {
      "name": "python3",
      "display_name": "Python 3"
    },
    "language_info": {
      "name": "python"
    }
  },
  "cells": [
    {
      "cell_type": "markdown",
      "metadata": {
        "id": "view-in-github",
        "colab_type": "text"
      },
      "source": [
        "<a href=\"https://colab.research.google.com/github/siddharthvobbilisetty/Library-Management-System/blob/main/fuzzy_logic.ipynb\" target=\"_parent\"><img src=\"https://colab.research.google.com/assets/colab-badge.svg\" alt=\"Open In Colab\"/></a>"
      ]
    },
    {
      "cell_type": "code",
      "execution_count": 4,
      "metadata": {
        "colab": {
          "base_uri": "https://localhost:8080/"
        },
        "id": "jgokQA9yE2lT",
        "outputId": "3acd5e0e-bda7-4287-d597-8742c84a27d2"
      },
      "outputs": [
        {
          "output_type": "stream",
          "name": "stdout",
          "text": [
            "[('apple park', 90), ('apple incoporated', 90), ('pple Inc', 72), ('iphone', 36)]\n",
            "('apple park', 90)\n"
          ]
        },
        {
          "output_type": "stream",
          "name": "stderr",
          "text": [
            "/usr/local/lib/python3.7/dist-packages/fuzzywuzzy/fuzz.py:11: UserWarning: Using slow pure-python SequenceMatcher. Install python-Levenshtein to remove this warning\n",
            "  warnings.warn('Using slow pure-python SequenceMatcher. Install python-Levenshtein to remove this warning')\n"
          ]
        }
      ],
      "source": [
        "from fuzzywuzzy import process\n",
        "str2Match = \"apple\"\n",
        "strOptions = [\"pple Inc\",\"apple park\", \"apple incoporated\",\"iphone\"]\n",
        "Ratio = process.extract(str2Match, strOptions)\n",
        "print(Ratio)\n",
        "highest = process.extractOne(str2Match,strOptions)\n",
        "print(highest)"
      ]
    },
    {
      "cell_type": "code",
      "source": [
        "!pip install fuzzywuzzy"
      ],
      "metadata": {
        "colab": {
          "base_uri": "https://localhost:8080/"
        },
        "id": "39T0kKrDFYJf",
        "outputId": "5252da6e-b92e-41e2-b7e9-ede2fb9c48be"
      },
      "execution_count": 3,
      "outputs": [
        {
          "output_type": "stream",
          "name": "stdout",
          "text": [
            "Collecting fuzzywuzzy\n",
            "  Downloading fuzzywuzzy-0.18.0-py2.py3-none-any.whl (18 kB)\n",
            "Installing collected packages: fuzzywuzzy\n",
            "Successfully installed fuzzywuzzy-0.18.0\n"
          ]
        }
      ]
    }
  ]
}