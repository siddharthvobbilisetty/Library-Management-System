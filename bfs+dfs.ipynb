{
  "nbformat": 4,
  "nbformat_minor": 0,
  "metadata": {
    "colab": {
      "name": "bfs+dfs.ipynb",
      "provenance": [],
      "authorship_tag": "ABX9TyP6XCl1ccKcLSKnR2ADaL1S",
      "include_colab_link": true
    },
    "kernelspec": {
      "name": "python3",
      "display_name": "Python 3"
    },
    "language_info": {
      "name": "python"
    }
  },
  "cells": [
    {
      "cell_type": "markdown",
      "metadata": {
        "id": "view-in-github",
        "colab_type": "text"
      },
      "source": [
        "<a href=\"https://colab.research.google.com/github/siddharthvobbilisetty/Library-Management-System/blob/main/bfs%2Bdfs.ipynb\" target=\"_parent\"><img src=\"https://colab.research.google.com/assets/colab-badge.svg\" alt=\"Open In Colab\"/></a>"
      ]
    },
    {
      "cell_type": "code",
      "execution_count": 2,
      "metadata": {
        "colab": {
          "base_uri": "https://localhost:8080/"
        },
        "id": "tgZQIkowZSyj",
        "outputId": "f3cafc65-9993-4ec8-fedc-8a7f6dad56e3"
      },
      "outputs": [
        {
          "output_type": "stream",
          "name": "stdout",
          "text": [
            "BFS: A B C D E F \n",
            "\n",
            "DFS: A B D E F C "
          ]
        }
      ],
      "source": [
        "graph = {\n",
        "    'A' : ['B','C'],\n",
        "    'B' : ['D', 'E'],\n",
        "    'C' : ['F'],\n",
        "    'D' : [],\n",
        "    'E' : ['F'],\n",
        "    'F' : []\n",
        "}\n",
        "\n",
        "visited_bfs = []\n",
        "queue = []\n",
        "\n",
        "def bfs(visited_bfs, graph, node):\n",
        "    visited_bfs.append(node)\n",
        "    queue.append(node)\n",
        "\n",
        "    while queue:\n",
        "        s = queue.pop(0)\n",
        "        print (s, end = \" \")\n",
        "\n",
        "        for neighbour in graph[s]:\n",
        "            if neighbour not in visited_bfs:\n",
        "                visited_bfs.append(neighbour)\n",
        "                queue.append(neighbour)\n",
        "\n",
        "visited = set()\n",
        "def dfs(visited, graph, node):\n",
        "    if node not in visited:\n",
        "        print (node, end=\" \")\n",
        "        visited.add(node)\n",
        "        for neighbour in graph[node]:\n",
        "            dfs(visited, graph, neighbour)\n",
        "\n",
        "print(\"BFS:\" , end =\" \")\n",
        "bfs(visited_bfs, graph, 'A')\n",
        "print('\\n')\n",
        "print(\"DFS:\" , end =\" \")\n",
        "dfs(visited, graph, 'A')"
      ]
    }
  ]
}