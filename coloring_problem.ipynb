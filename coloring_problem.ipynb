{
  "nbformat": 4,
  "nbformat_minor": 0,
  "metadata": {
    "colab": {
      "name": "coloring problem.ipynb",
      "provenance": [],
      "authorship_tag": "ABX9TyM4ysPGa12x5nbV/GA7YXOZ",
      "include_colab_link": true
    },
    "kernelspec": {
      "name": "python3",
      "display_name": "Python 3"
    },
    "language_info": {
      "name": "python"
    }
  },
  "cells": [
    {
      "cell_type": "markdown",
      "metadata": {
        "id": "view-in-github",
        "colab_type": "text"
      },
      "source": [
        "<a href=\"https://colab.research.google.com/github/siddharthvobbilisetty/Library-Management-System/blob/main/coloring_problem.ipynb\" target=\"_parent\"><img src=\"https://colab.research.google.com/assets/colab-badge.svg\" alt=\"Open In Colab\"/></a>"
      ]
    },
    {
      "cell_type": "code",
      "execution_count": 1,
      "metadata": {
        "colab": {
          "base_uri": "https://localhost:8080/"
        },
        "id": "yJwRMBqaaoDa",
        "outputId": "faae9c32-91bd-45e6-e08d-afb488c34f41"
      },
      "outputs": [
        {
          "output_type": "stream",
          "name": "stdout",
          "text": [
            "Yes\n"
          ]
        }
      ],
      "source": [
        "class Graph():\n",
        "\n",
        "    def __init__(self, V):\n",
        "        self.V = V\n",
        "        self.graph = [[0 for column in range(V)] \\\n",
        "                      for row in range(V)]\n",
        "\n",
        "\n",
        "    def isBipartite(self, src):\n",
        "\n",
        "\n",
        "        colorArr = [-1] * self.V\n",
        "\n",
        "        colorArr[src] = 1\n",
        "\n",
        "        queue = []\n",
        "        queue.append(src)\n",
        "\n",
        "        while queue:\n",
        "\n",
        "            u = queue.pop()\n",
        "\n",
        "            if self.graph[u][u] == 1:\n",
        "                return False;\n",
        "\n",
        "            for v in range(self.V):\n",
        "\n",
        "                if self.graph[u][v] == 1 and colorArr[v] == -1:\n",
        "\n",
        "                    colorArr[v] = 1 - colorArr[u]\n",
        "                    queue.append(v)\n",
        "                elif self.graph[u][v] == 1 and colorArr[v] == colorArr[u]:\n",
        "                    return False\n",
        "            return True\n",
        "\n",
        "g = Graph(4)\n",
        "g.graph = [[0, 1, 0, 1],\n",
        "           [1, 0, 1, 0],\n",
        "           [0, 1, 0, 1],\n",
        "           [1, 0, 1, 0]\n",
        "           ]\n",
        "if g.isBipartite(0):\n",
        "    print(\"Yes\")\n",
        "else:\n",
        "    print(\"No\")"
      ]
    }
  ]
}