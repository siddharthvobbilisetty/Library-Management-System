{
  "nbformat": 4,
  "nbformat_minor": 0,
  "metadata": {
    "colab": {
      "name": "camel banana.ipynb",
      "provenance": [],
      "authorship_tag": "ABX9TyOs8pGS0tIdetWxVkjXkwKw",
      "include_colab_link": true
    },
    "kernelspec": {
      "name": "python3",
      "display_name": "Python 3"
    },
    "language_info": {
      "name": "python"
    }
  },
  "cells": [
    {
      "cell_type": "markdown",
      "metadata": {
        "id": "view-in-github",
        "colab_type": "text"
      },
      "source": [
        "<a href=\"https://colab.research.google.com/github/siddharthvobbilisetty/Library-Management-System/blob/main/camel_banana.ipynb\" target=\"_parent\"><img src=\"https://colab.research.google.com/assets/colab-badge.svg\" alt=\"Open In Colab\"/></a>"
      ]
    },
    {
      "cell_type": "code",
      "execution_count": null,
      "metadata": {
        "id": "0cqQPO7E7DD4"
      },
      "outputs": [],
      "source": [
        "a=3000                     #total bananas\n",
        "l=1000\n",
        "s=0\n",
        "while(a>l):\n",
        "    n=(a/l)*2-1            #no. of trips\n",
        "    x=l//n                 #distance of check post trips\n",
        "    s=s+x                  #storing no of bananas consumed\n",
        "    a=a-l                  #next load of banana\n",
        "kmleft=a-s\n",
        "bananasneeded=kmleft\n",
        "bananasleft=a-bananasneeded\n",
        "print(bananasleft)"
      ]
    }
  ]
}